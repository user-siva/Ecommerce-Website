{
 "cells": [
  {
   "cell_type": "code",
   "execution_count": 1,
   "metadata": {
    "colab": {
     "base_uri": "https://localhost:8080/"
    },
    "id": "Q7oHEKANVn7c",
    "outputId": "6fee9de7-cfcc-4f03-c07f-1ea1798b780a"
   },
   "outputs": [],
   "source": [
    "#!pip install bing-image-downloader"
   ]
  },
  {
   "cell_type": "code",
   "execution_count": 2,
   "metadata": {
    "id": "hTLtfHLXtGDb"
   },
   "outputs": [],
   "source": [
    "#!mkdir Images"
   ]
  },
  {
   "cell_type": "code",
   "execution_count": 3,
   "metadata": {
    "colab": {
     "base_uri": "https://localhost:8080/"
    },
    "id": "sH1ynVbqtLmT",
    "outputId": "fdcc121d-1b52-4dd9-aad4-3ded2a25cf7e"
   },
   "outputs": [],
   "source": [
    "#from bing_image_downloader import downloader\n",
    "\n",
    "#downloader.download('sunflower',limit=30,output_dir='Images',adult_filter_off=True)"
   ]
  },
  {
   "cell_type": "code",
   "execution_count": 4,
   "metadata": {
    "colab": {
     "base_uri": "https://localhost:8080/"
    },
    "id": "c8pdNE-tu0vq",
    "outputId": "a1611cf9-1c41-41f8-8126-f6612da3cc1d"
   },
   "outputs": [],
   "source": [
    "#downloader.download('Sun',limit=30,output_dir='Images',adult_filter_off=True)"
   ]
  },
  {
   "cell_type": "code",
   "execution_count": 5,
   "metadata": {
    "colab": {
     "base_uri": "https://localhost:8080/"
    },
    "id": "24uB3YxxvfkS",
    "outputId": "156d30d2-c045-4abc-a850-dc860d9f42e0"
   },
   "outputs": [],
   "source": [
    "#downloader.download('cone ice cream',limit=30,output_dir='Images',adult_filter_off=True)"
   ]
  },
  {
   "cell_type": "code",
   "execution_count": 6,
   "metadata": {},
   "outputs": [],
   "source": [
    "import os\n",
    "import matplotlib.pyplot as plt\n",
    "from skimage.io import imread\n",
    "from skimage.transform import resize\n",
    "import numpy as np"
   ]
  },
  {
   "cell_type": "code",
   "execution_count": 7,
   "metadata": {},
   "outputs": [],
   "source": [
    "target = []\n",
    "images = []\n",
    "flat_data = []\n",
    "\n",
    "DATA_DIR = 'Images'\n",
    "CATEGORIES = ['sunflower','Sun','cone ice cream']\n"
   ]
  },
  {
   "cell_type": "code",
   "execution_count": 8,
   "metadata": {
    "id": "Gpj1XTh3wQTw"
   },
   "outputs": [],
   "source": [
    "for category in CATEGORIES:\n",
    "    class_num = CATEGORIES.index(category) #label encoding\n",
    "    path = os.path.join(DATA_DIR,category)\n",
    "    for img in os.listdir(path):\n",
    "        img_array = imread(os.path.join(path,img),pilmode=\"RGB\")\n",
    "        #print(img_array)\n",
    "        #plt.imshow(img_array)\n",
    "        resized_img = resize(img_array,(150,150,3))\n",
    "        flat_data.append(resized_img.flatten())\n",
    "        images.append(resized_img)\n",
    "        target.append(class_num)"
   ]
  },
  {
   "cell_type": "code",
   "execution_count": 9,
   "metadata": {},
   "outputs": [],
   "source": [
    "flat_data = np.array(flat_data)\n",
    "images = np.array(images)\n",
    "target = np.array(target)"
   ]
  },
  {
   "cell_type": "code",
   "execution_count": 10,
   "metadata": {
    "id": "6ycLqBLGMjz0"
   },
   "outputs": [],
   "source": [
    "#print(flat_data)"
   ]
  },
  {
   "cell_type": "code",
   "execution_count": 11,
   "metadata": {
    "id": "iu6G1rpWN704"
   },
   "outputs": [],
   "source": [
    "#target"
   ]
  },
  {
   "cell_type": "code",
   "execution_count": 12,
   "metadata": {
    "id": "Fqu-DFdaOpoF"
   },
   "outputs": [],
   "source": [
    "from sklearn.model_selection import train_test_split\n",
    "x_train,x_test,y_train,y_test = train_test_split(flat_data,target,test_size=.3,random_state=1)"
   ]
  },
  {
   "cell_type": "code",
   "execution_count": 13,
   "metadata": {
    "colab": {
     "base_uri": "https://localhost:8080/"
    },
    "id": "vUAjen5cPOfW",
    "outputId": "66478bcf-fda0-4c02-94e0-b89f51b69a6e"
   },
   "outputs": [
    {
     "data": {
      "text/plain": [
       "SVC(probability=True)"
      ]
     },
     "execution_count": 13,
     "metadata": {},
     "output_type": "execute_result"
    }
   ],
   "source": [
    "from sklearn import svm\n",
    "\n",
    "svc = svm.SVC(probability=True,kernel='rbf',gamma='scale')\n",
    "svc.fit(x_train,y_train)"
   ]
  },
  {
   "cell_type": "code",
   "execution_count": 14,
   "metadata": {
    "colab": {
     "base_uri": "https://localhost:8080/"
    },
    "id": "0iqOugxaXo8D",
    "outputId": "7e2eb501-e12d-402b-891c-2871db667a67"
   },
   "outputs": [
    {
     "data": {
      "text/plain": [
       "array([1, 0, 1, 1, 2, 2, 2, 1, 1, 1, 1, 0, 0, 0, 1, 2, 0, 0, 2, 2, 1, 0,\n",
       "       2, 1, 0, 1, 0])"
      ]
     },
     "execution_count": 14,
     "metadata": {},
     "output_type": "execute_result"
    }
   ],
   "source": [
    "y_pred = svc.predict(x_test)\n",
    "y_pred"
   ]
  },
  {
   "cell_type": "code",
   "execution_count": 15,
   "metadata": {
    "colab": {
     "base_uri": "https://localhost:8080/"
    },
    "id": "XZeOw9ZMYHqO",
    "outputId": "d3e5bcfa-e79f-4ba0-bfda-18d9c6748e31"
   },
   "outputs": [
    {
     "data": {
      "text/plain": [
       "array([1, 2, 1, 1, 2, 2, 2, 1, 1, 1, 1, 1, 2, 0, 1, 2, 0, 0, 2, 2, 1, 0,\n",
       "       2, 1, 1, 1, 1])"
      ]
     },
     "execution_count": 15,
     "metadata": {},
     "output_type": "execute_result"
    }
   ],
   "source": [
    "y_test"
   ]
  },
  {
   "cell_type": "code",
   "execution_count": 16,
   "metadata": {
    "colab": {
     "base_uri": "https://localhost:8080/"
    },
    "id": "olZs-8qvn8It",
    "outputId": "0789afa2-ea55-4f4f-9803-b69995381323"
   },
   "outputs": [
    {
     "data": {
      "text/plain": [
       "0.8148148148148148"
      ]
     },
     "execution_count": 16,
     "metadata": {},
     "output_type": "execute_result"
    }
   ],
   "source": [
    "from sklearn.metrics import accuracy_score,confusion_matrix \n",
    "accuracy_score(y_pred,y_test)"
   ]
  },
  {
   "cell_type": "code",
   "execution_count": 17,
   "metadata": {
    "colab": {
     "base_uri": "https://localhost:8080/"
    },
    "id": "t_4iEo_YHnxj",
    "outputId": "8c01e821-a277-47f5-e182-8808e2dcbf21"
   },
   "outputs": [
    {
     "data": {
      "text/plain": [
       "array([0.88888889, 1.        , 0.88888889, 0.88888889, 0.88888889,\n",
       "       0.66666667, 0.77777778, 0.77777778, 0.77777778, 1.        ])"
      ]
     },
     "execution_count": 17,
     "metadata": {},
     "output_type": "execute_result"
    }
   ],
   "source": [
    "from sklearn.model_selection import cross_val_score\n",
    "cross_val_score(svc,flat_data,target,cv=10)"
   ]
  },
  {
   "cell_type": "code",
   "execution_count": 18,
   "metadata": {
    "id": "c8hmp92sYd66"
   },
   "outputs": [],
   "source": [
    "#svc.support_vectors_"
   ]
  },
  {
   "cell_type": "code",
   "execution_count": 19,
   "metadata": {
    "colab": {
     "base_uri": "https://localhost:8080/"
    },
    "id": "dc6sVl8hovDn",
    "outputId": "001f19ba-5455-4a9d-9fe4-ad511d060ce3"
   },
   "outputs": [
    {
     "data": {
      "text/plain": [
       "array([[ 4,  3,  2],\n",
       "       [ 0, 11,  0],\n",
       "       [ 0,  0,  7]], dtype=int64)"
      ]
     },
     "execution_count": 19,
     "metadata": {},
     "output_type": "execute_result"
    }
   ],
   "source": [
    "confusion_matrix(y_pred,y_test)"
   ]
  },
  {
   "cell_type": "code",
   "execution_count": 20,
   "metadata": {
    "id": "Hwe56E-tEw_L"
   },
   "outputs": [],
   "source": [
    "import pickle\n",
    "pickle.dump(svc,open('img_clf.p','wb'))"
   ]
  },
  {
   "cell_type": "code",
   "execution_count": 21,
   "metadata": {
    "id": "1bGLdLoJFaY3"
   },
   "outputs": [],
   "source": [
    "model = pickle.load(open('img_clf.p','rb'))"
   ]
  },
  {
   "cell_type": "code",
   "execution_count": 22,
   "metadata": {
    "colab": {
     "base_uri": "https://localhost:8080/",
     "height": 527
    },
    "id": "dE6B_kGxHLSO",
    "outputId": "df3fc2ff-2144-47d4-a435-fab8770358c0"
   },
   "outputs": [],
   "source": [
    "#flat_data = []\n",
    "#url = input('Enter URL:')\n",
    "#img = imread(url)\n",
    "#img_resized = resize(img,(150,150,3))\n",
    "#flat_data.append(img_resized.flatten())\n",
    "#flat_data = np.array(flat_data)\n",
    "#plt.imshow(img_resized)\n",
    "#y_out = model.predict(flat_data)\n",
    "#y_out = CATEGORIES[y_out[0]]\n",
    "#y_out"
   ]
  },
  {
   "cell_type": "code",
   "execution_count": null,
   "metadata": {
    "colab": {
     "base_uri": "https://localhost:8080/",
     "height": 1000
    },
    "id": "Lf3hfkYdCCWw",
    "outputId": "2bad4992-ef4a-401b-df2b-017fc4a4236e"
   },
   "outputs": [],
   "source": []
  },
  {
   "cell_type": "code",
   "execution_count": 23,
   "metadata": {
    "colab": {
     "base_uri": "https://localhost:8080/"
    },
    "id": "jY8rwi2hDqs-",
    "outputId": "35ea7598-3177-4ad5-888d-00342c2a6233"
   },
   "outputs": [],
   "source": [
    "#!pip install gradio"
   ]
  },
  {
   "cell_type": "code",
   "execution_count": 24,
   "metadata": {},
   "outputs": [],
   "source": [
    "import gradio as gr\n",
    "def classify(img):\n",
    "    flat_data = []\n",
    "    img = resize(img,(150, 150,3))\n",
    "    flat_data.append(img.flatten())\n",
    "    flat_data = np.array(flat_data)\n",
    "    prediction = model.predict(flat_data)\n",
    "    class_names = ['sunflower','Sun','cone ice cream']\n",
    "    print(prediction)\n",
    "    return class_names[prediction[0]]"
   ]
  },
  {
   "cell_type": "code",
   "execution_count": 25,
   "metadata": {
    "colab": {
     "base_uri": "https://localhost:8080/",
     "height": 1000
    },
    "id": "z_QzKQtvKbXI",
    "outputId": "1f2ffa61-71d7-484c-8efb-9467546e5e30"
   },
   "outputs": [
    {
     "name": "stdout",
     "output_type": "stream",
     "text": [
      "Running on local URL:  http://127.0.0.1:7860/\n",
      "Running on public URL: https://27530.gradio.app\n",
      "\n",
      "This share link will expire in 72 hours. To get longer links, send an email to: support@gradio.app\n"
     ]
    },
    {
     "data": {
      "text/html": [
       "\n",
       "        <iframe\n",
       "            width=\"900\"\n",
       "            height=\"500\"\n",
       "            src=\"https://27530.gradio.app\"\n",
       "            frameborder=\"0\"\n",
       "            allowfullscreen\n",
       "            \n",
       "        ></iframe>\n",
       "        "
      ],
      "text/plain": [
       "<IPython.lib.display.IFrame at 0x17e8024a7f0>"
      ]
     },
     "metadata": {},
     "output_type": "display_data"
    }
   ],
   "source": [
    "#set the user uploaded image as the input array\n",
    "#match same shape as the input shape in the model\n",
    "im = gr.inputs.Image(image_mode='L', invert_colors=False, source=\"upload\")\n",
    "#setup the interface\n",
    "iface = gr.Interface(\n",
    "    fn = classify, \n",
    "    inputs = im, \n",
    "    outputs = gr.outputs.Textbox(type=\"auto\", label=None),\n",
    ")\n",
    "iface.launch(share=True,debug=True)"
   ]
  }
 ],
 "metadata": {
  "colab": {
   "collapsed_sections": [],
   "name": "ImageClassification.ipynb",
   "provenance": []
  },
  "interpreter": {
   "hash": "f68dbd207d6f441c78d8073b00ca8603724323c2a97ea6a309b2c209156ff4de"
  },
  "kernelspec": {
   "display_name": "ArtificialIntelligence-8Iu7KEox",
   "language": "python",
   "name": "python3"
  },
  "language_info": {
   "codemirror_mode": {
    "name": "ipython",
    "version": 3
   },
   "file_extension": ".py",
   "mimetype": "text/x-python",
   "name": "python",
   "nbconvert_exporter": "python",
   "pygments_lexer": "ipython3",
   "version": "3.8.2"
  }
 },
 "nbformat": 4,
 "nbformat_minor": 4
}
